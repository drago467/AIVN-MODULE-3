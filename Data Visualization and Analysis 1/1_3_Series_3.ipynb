{
  "cells": [
    {
      "cell_type": "markdown",
      "metadata": {
        "id": "view-in-github",
        "colab_type": "text"
      },
      "source": [
        "<a href=\"https://colab.research.google.com/github/drago467/AIVN-MODULE-3/blob/main/Data%20Visualization%20and%20Analysis%201/1_3_Series_3.ipynb\" target=\"_parent\"><img src=\"https://colab.research.google.com/assets/colab-badge.svg\" alt=\"Open In Colab\"/></a>"
      ]
    },
    {
      "cell_type": "markdown",
      "id": "e2610720",
      "metadata": {
        "id": "e2610720"
      },
      "source": [
        "## Strings"
      ]
    },
    {
      "cell_type": "code",
      "execution_count": null,
      "id": "c35324a9",
      "metadata": {
        "id": "c35324a9"
      },
      "outputs": [],
      "source": [
        "import pandas as pd\n",
        "import numpy as np\n",
        "\n",
        "data = pd.Series(['C++', 'Golang', 'Java', 'Python', 'Swift'])\n",
        "data"
      ]
    },
    {
      "cell_type": "code",
      "execution_count": null,
      "id": "12ec8e4d",
      "metadata": {
        "id": "12ec8e4d"
      },
      "outputs": [],
      "source": [
        "data.str.count('Java')"
      ]
    },
    {
      "cell_type": "code",
      "execution_count": null,
      "id": "80682526",
      "metadata": {
        "id": "80682526"
      },
      "outputs": [],
      "source": [
        "data.str.upper()"
      ]
    },
    {
      "cell_type": "code",
      "execution_count": null,
      "id": "babebee9",
      "metadata": {
        "id": "babebee9"
      },
      "outputs": [],
      "source": [
        "data.replace('Java', 'C#')"
      ]
    },
    {
      "cell_type": "code",
      "execution_count": null,
      "id": "b7450785",
      "metadata": {
        "id": "b7450785"
      },
      "outputs": [],
      "source": []
    },
    {
      "cell_type": "markdown",
      "id": "bb5555b5",
      "metadata": {
        "id": "bb5555b5"
      },
      "source": [
        "## Group by"
      ]
    },
    {
      "cell_type": "code",
      "execution_count": null,
      "id": "59040bc1",
      "metadata": {
        "id": "59040bc1"
      },
      "outputs": [],
      "source": [
        "import pandas as pd\n",
        "import numpy as np\n",
        "\n",
        "data = pd.Series([4, 1, 0, 2, 2, 1],\n",
        "                 index=list(['C++', 'Golang', 'Java', 'Python', 'Swift', 'C#']),\n",
        "                 name='num_dropped')\n",
        "data"
      ]
    },
    {
      "cell_type": "code",
      "execution_count": null,
      "id": "36b68b76",
      "metadata": {
        "id": "36b68b76"
      },
      "outputs": [],
      "source": []
    },
    {
      "cell_type": "code",
      "execution_count": null,
      "id": "e7e7206c",
      "metadata": {
        "id": "e7e7206c",
        "outputId": "4aeb688a-3086-4d85-ecf8-1f6d905fbbea"
      },
      "outputs": [
        {
          "data": {
            "text/plain": [
              "C++       4\n",
              "Golang    1\n",
              "Java      0\n",
              "Golang    2\n",
              "Java      2\n",
              "C++       1\n",
              "Name: num_dropped, dtype: int64"
            ]
          },
          "execution_count": 1,
          "metadata": {},
          "output_type": "execute_result"
        }
      ],
      "source": [
        "import pandas as pd\n",
        "import numpy as np\n",
        "\n",
        "data = pd.Series([4, 1, 0, 2, 2, 1],\n",
        "                 index=list(['C++', 'Golang', 'Java', 'Golang', 'Java', 'C++']),\n",
        "                 name='num_dropped')\n",
        "data"
      ]
    },
    {
      "cell_type": "code",
      "execution_count": null,
      "id": "13976ae7",
      "metadata": {
        "id": "13976ae7",
        "outputId": "7fa0d33b-ea8f-44d0-9107-5acf12be36cc"
      },
      "outputs": [
        {
          "data": {
            "text/plain": [
              "5"
            ]
          },
          "execution_count": 3,
          "metadata": {},
          "output_type": "execute_result"
        }
      ],
      "source": [
        "data['C++'].sum()"
      ]
    },
    {
      "cell_type": "code",
      "execution_count": null,
      "id": "d94e146f",
      "metadata": {
        "id": "d94e146f"
      },
      "outputs": [],
      "source": []
    },
    {
      "cell_type": "code",
      "execution_count": null,
      "id": "7d8dd0c0",
      "metadata": {
        "id": "7d8dd0c0"
      },
      "outputs": [],
      "source": [
        "data['Golang']"
      ]
    },
    {
      "cell_type": "code",
      "execution_count": null,
      "id": "11308d90",
      "metadata": {
        "id": "11308d90"
      },
      "outputs": [],
      "source": [
        "data['Java']"
      ]
    },
    {
      "cell_type": "code",
      "execution_count": null,
      "id": "9bfa331b",
      "metadata": {
        "id": "9bfa331b"
      },
      "outputs": [],
      "source": [
        "print(data['C++'].sum())\n",
        "print(data['Golang'].sum())\n",
        "print(data['Java'].sum())"
      ]
    },
    {
      "cell_type": "code",
      "execution_count": null,
      "id": "2bfd2904",
      "metadata": {
        "id": "2bfd2904"
      },
      "outputs": [],
      "source": []
    },
    {
      "cell_type": "code",
      "execution_count": null,
      "id": "819bbe14",
      "metadata": {
        "id": "819bbe14"
      },
      "outputs": [],
      "source": [
        "data.groupby(level=0).sum()"
      ]
    },
    {
      "cell_type": "code",
      "execution_count": null,
      "id": "4f7635fb",
      "metadata": {
        "id": "4f7635fb"
      },
      "outputs": [],
      "source": [
        "data.groupby(data>3).sum()"
      ]
    },
    {
      "cell_type": "code",
      "execution_count": null,
      "id": "e7f171d3",
      "metadata": {
        "id": "e7f171d3"
      },
      "outputs": [],
      "source": []
    },
    {
      "cell_type": "code",
      "execution_count": null,
      "id": "cc87a0eb",
      "metadata": {
        "id": "cc87a0eb"
      },
      "outputs": [],
      "source": []
    },
    {
      "cell_type": "code",
      "execution_count": null,
      "id": "383491ce",
      "metadata": {
        "id": "383491ce"
      },
      "outputs": [],
      "source": [
        "arrays = [['Falcon', 'Falcon', 'Parrot', 'Parrot'],\n",
        "          ['Captive', 'Wild', 'Captive', 'Wild']]\n",
        "index = pd.MultiIndex.from_arrays(arrays,\n",
        "                                  names=('Animal', 'Type'))\n",
        "ser = pd.Series([390., 350., 30., 20.],\n",
        "                index=index,\n",
        "                name=\"Max Speed\")\n",
        "ser"
      ]
    },
    {
      "cell_type": "code",
      "execution_count": null,
      "id": "dfab1d70",
      "metadata": {
        "id": "dfab1d70"
      },
      "outputs": [],
      "source": [
        "ser.groupby(level=0).sum()"
      ]
    },
    {
      "cell_type": "code",
      "execution_count": null,
      "id": "1d2e5341",
      "metadata": {
        "id": "1d2e5341"
      },
      "outputs": [],
      "source": [
        "ser.groupby(level=\"Type\").mean()"
      ]
    },
    {
      "cell_type": "code",
      "execution_count": null,
      "id": "1d705645",
      "metadata": {
        "id": "1d705645"
      },
      "outputs": [],
      "source": [
        "ser.groupby(level=1).sum()"
      ]
    },
    {
      "cell_type": "code",
      "execution_count": null,
      "id": "0706435f",
      "metadata": {
        "id": "0706435f"
      },
      "outputs": [],
      "source": [
        "ser.index"
      ]
    },
    {
      "cell_type": "code",
      "execution_count": null,
      "id": "a68e1fc8",
      "metadata": {
        "id": "a68e1fc8"
      },
      "outputs": [],
      "source": []
    }
  ],
  "metadata": {
    "kernelspec": {
      "display_name": "Python 3 (ipykernel)",
      "language": "python",
      "name": "python3"
    },
    "language_info": {
      "codemirror_mode": {
        "name": "ipython",
        "version": 3
      },
      "file_extension": ".py",
      "mimetype": "text/x-python",
      "name": "python",
      "nbconvert_exporter": "python",
      "pygments_lexer": "ipython3",
      "version": "3.11.4"
    },
    "colab": {
      "provenance": [],
      "include_colab_link": true
    }
  },
  "nbformat": 4,
  "nbformat_minor": 5
}